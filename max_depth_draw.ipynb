{
 "cells": [
  {
   "cell_type": "code",
   "execution_count": 46,
   "metadata": {},
   "outputs": [],
   "source": [
    "import pandas as pd\n",
    "import numpy as np\n",
    "import matplotlib.pyplot as plt"
   ]
  },
  {
   "cell_type": "code",
   "execution_count": 47,
   "metadata": {},
   "outputs": [],
   "source": [
    "dt = pd.read_csv('record.csv')"
   ]
  },
  {
   "cell_type": "code",
   "execution_count": 48,
   "metadata": {},
   "outputs": [],
   "source": [
    "dt_he = dt[dt['dataset'] == 'he']\n",
    "dt_he = dt_he[dt_he['learn_rate'] == 1]"
   ]
  },
  {
   "cell_type": "code",
   "execution_count": 49,
   "metadata": {},
   "outputs": [
    {
     "data": {
      "text/html": [
       "<div>\n",
       "<style scoped>\n",
       "    .dataframe tbody tr th:only-of-type {\n",
       "        vertical-align: middle;\n",
       "    }\n",
       "\n",
       "    .dataframe tbody tr th {\n",
       "        vertical-align: top;\n",
       "    }\n",
       "\n",
       "    .dataframe thead th {\n",
       "        text-align: right;\n",
       "    }\n",
       "</style>\n",
       "<table border=\"1\" class=\"dataframe\">\n",
       "  <thead>\n",
       "    <tr style=\"text-align: right;\">\n",
       "      <th></th>\n",
       "      <th>dataset</th>\n",
       "      <th>learn_rate</th>\n",
       "      <th>max_depth</th>\n",
       "      <th>stop_iter</th>\n",
       "      <th>f1_score_macro</th>\n",
       "      <th>f1_score_micro</th>\n",
       "      <th>acc</th>\n",
       "      <th>ham</th>\n",
       "    </tr>\n",
       "  </thead>\n",
       "  <tbody>\n",
       "    <tr>\n",
       "      <td>16</td>\n",
       "      <td>he</td>\n",
       "      <td>1.0</td>\n",
       "      <td>2</td>\n",
       "      <td>5</td>\n",
       "      <td>0.416609</td>\n",
       "      <td>0.733229</td>\n",
       "      <td>0.630000</td>\n",
       "      <td>0.142500</td>\n",
       "    </tr>\n",
       "    <tr>\n",
       "      <td>6</td>\n",
       "      <td>he</td>\n",
       "      <td>1.0</td>\n",
       "      <td>3</td>\n",
       "      <td>5</td>\n",
       "      <td>0.441586</td>\n",
       "      <td>0.738654</td>\n",
       "      <td>0.631667</td>\n",
       "      <td>0.139167</td>\n",
       "    </tr>\n",
       "    <tr>\n",
       "      <td>18</td>\n",
       "      <td>he</td>\n",
       "      <td>1.0</td>\n",
       "      <td>4</td>\n",
       "      <td>4</td>\n",
       "      <td>0.421018</td>\n",
       "      <td>0.733229</td>\n",
       "      <td>0.630000</td>\n",
       "      <td>0.142500</td>\n",
       "    </tr>\n",
       "    <tr>\n",
       "      <td>20</td>\n",
       "      <td>he</td>\n",
       "      <td>1.0</td>\n",
       "      <td>5</td>\n",
       "      <td>6</td>\n",
       "      <td>0.462285</td>\n",
       "      <td>0.742448</td>\n",
       "      <td>0.626667</td>\n",
       "      <td>0.135000</td>\n",
       "    </tr>\n",
       "    <tr>\n",
       "      <td>22</td>\n",
       "      <td>he</td>\n",
       "      <td>1.0</td>\n",
       "      <td>6</td>\n",
       "      <td>5</td>\n",
       "      <td>0.452182</td>\n",
       "      <td>0.716491</td>\n",
       "      <td>0.591667</td>\n",
       "      <td>0.145417</td>\n",
       "    </tr>\n",
       "    <tr>\n",
       "      <td>24</td>\n",
       "      <td>he</td>\n",
       "      <td>1.0</td>\n",
       "      <td>7</td>\n",
       "      <td>5</td>\n",
       "      <td>0.448898</td>\n",
       "      <td>0.724756</td>\n",
       "      <td>0.610000</td>\n",
       "      <td>0.140833</td>\n",
       "    </tr>\n",
       "    <tr>\n",
       "      <td>26</td>\n",
       "      <td>he</td>\n",
       "      <td>1.0</td>\n",
       "      <td>8</td>\n",
       "      <td>4</td>\n",
       "      <td>0.432355</td>\n",
       "      <td>0.728424</td>\n",
       "      <td>0.620000</td>\n",
       "      <td>0.142917</td>\n",
       "    </tr>\n",
       "  </tbody>\n",
       "</table>\n",
       "</div>"
      ],
      "text/plain": [
       "   dataset  learn_rate  max_depth  stop_iter  f1_score_macro  f1_score_micro  \\\n",
       "16      he         1.0          2          5        0.416609        0.733229   \n",
       "6       he         1.0          3          5        0.441586        0.738654   \n",
       "18      he         1.0          4          4        0.421018        0.733229   \n",
       "20      he         1.0          5          6        0.462285        0.742448   \n",
       "22      he         1.0          6          5        0.452182        0.716491   \n",
       "24      he         1.0          7          5        0.448898        0.724756   \n",
       "26      he         1.0          8          4        0.432355        0.728424   \n",
       "\n",
       "         acc       ham  \n",
       "16  0.630000  0.142500  \n",
       "6   0.631667  0.139167  \n",
       "18  0.630000  0.142500  \n",
       "20  0.626667  0.135000  \n",
       "22  0.591667  0.145417  \n",
       "24  0.610000  0.140833  \n",
       "26  0.620000  0.142917  "
      ]
     },
     "execution_count": 49,
     "metadata": {},
     "output_type": "execute_result"
    }
   ],
   "source": [
    "dt_he.sort_values(by='max_depth', inplace=True)\n",
    "dt_he"
   ]
  },
  {
   "cell_type": "code",
   "execution_count": 50,
   "metadata": {},
   "outputs": [
    {
     "data": {
      "image/png": "[encoded data removed]",
      "text/plain": [
       "<Figure size 432x288 with 1 Axes>"
      ]
     },
     "metadata": {
      "needs_background": "light"
     },
     "output_type": "display_data"
    }
   ],
   "source": [
    "plt.plot(dt_he['max_depth'], dt_he['f1_score_macro'], 'r', label='f1_score_macro')\n",
    "plt.plot(dt_he['max_depth'], dt_he['f1_score_micro'], 'b', label='f1_score_micro')\n",
    "plt.plot(dt_he['max_depth'], dt_he['acc'], 'g', label='accuracy')\n",
    "plt.plot(dt_he['max_depth'], dt_he['ham'], 'black', label='hamming_loss')\n",
    "plt.xlabel(xlabel='max_depth')\n",
    "plt.ylabel(ylabel='score')\n",
    "plt.legend(loc=3)\n",
    "plt.savefig('he_max_depth_score.png')"
   ]
  },
  {
   "cell_type": "code",
   "execution_count": 51,
   "metadata": {},
   "outputs": [],
   "source": [
    "dt_re = dt[dt['dataset'] == 'he']\n",
    "dt_re = dt_he[dt_he['learn_rate'] == 1]"
   ]
  },
  {
   "cell_type": "code",
   "execution_count": 52,
   "metadata": {},
   "outputs": [
    {
     "data": {
      "text/html": [
       "<div>\n",
       "<style scoped>\n",
       "    .dataframe tbody tr th:only-of-type {\n",
       "        vertical-align: middle;\n",
       "    }\n",
       "\n",
       "    .dataframe tbody tr th {\n",
       "        vertical-align: top;\n",
       "    }\n",
       "\n",
       "    .dataframe thead th {\n",
       "        text-align: right;\n",
       "    }\n",
       "</style>\n",
       "<table border=\"1\" class=\"dataframe\">\n",
       "  <thead>\n",
       "    <tr style=\"text-align: right;\">\n",
       "      <th></th>\n",
       "      <th>dataset</th>\n",
       "      <th>learn_rate</th>\n",
       "      <th>max_depth</th>\n",
       "      <th>stop_iter</th>\n",
       "      <th>f1_score_macro</th>\n",
       "      <th>f1_score_micro</th>\n",
       "      <th>acc</th>\n",
       "      <th>ham</th>\n",
       "    </tr>\n",
       "  </thead>\n",
       "  <tbody>\n",
       "    <tr>\n",
       "      <td>16</td>\n",
       "      <td>he</td>\n",
       "      <td>1.0</td>\n",
       "      <td>2</td>\n",
       "      <td>5</td>\n",
       "      <td>0.416609</td>\n",
       "      <td>0.733229</td>\n",
       "      <td>0.630000</td>\n",
       "      <td>0.142500</td>\n",
       "    </tr>\n",
       "    <tr>\n",
       "      <td>6</td>\n",
       "      <td>he</td>\n",
       "      <td>1.0</td>\n",
       "      <td>3</td>\n",
       "      <td>5</td>\n",
       "      <td>0.441586</td>\n",
       "      <td>0.738654</td>\n",
       "      <td>0.631667</td>\n",
       "      <td>0.139167</td>\n",
       "    </tr>\n",
       "    <tr>\n",
       "      <td>18</td>\n",
       "      <td>he</td>\n",
       "      <td>1.0</td>\n",
       "      <td>4</td>\n",
       "      <td>4</td>\n",
       "      <td>0.421018</td>\n",
       "      <td>0.733229</td>\n",
       "      <td>0.630000</td>\n",
       "      <td>0.142500</td>\n",
       "    </tr>\n",
       "    <tr>\n",
       "      <td>20</td>\n",
       "      <td>he</td>\n",
       "      <td>1.0</td>\n",
       "      <td>5</td>\n",
       "      <td>6</td>\n",
       "      <td>0.462285</td>\n",
       "      <td>0.742448</td>\n",
       "      <td>0.626667</td>\n",
       "      <td>0.135000</td>\n",
       "    </tr>\n",
       "    <tr>\n",
       "      <td>22</td>\n",
       "      <td>he</td>\n",
       "      <td>1.0</td>\n",
       "      <td>6</td>\n",
       "      <td>5</td>\n",
       "      <td>0.452182</td>\n",
       "      <td>0.716491</td>\n",
       "      <td>0.591667</td>\n",
       "      <td>0.145417</td>\n",
       "    </tr>\n",
       "    <tr>\n",
       "      <td>24</td>\n",
       "      <td>he</td>\n",
       "      <td>1.0</td>\n",
       "      <td>7</td>\n",
       "      <td>5</td>\n",
       "      <td>0.448898</td>\n",
       "      <td>0.724756</td>\n",
       "      <td>0.610000</td>\n",
       "      <td>0.140833</td>\n",
       "    </tr>\n",
       "    <tr>\n",
       "      <td>26</td>\n",
       "      <td>he</td>\n",
       "      <td>1.0</td>\n",
       "      <td>8</td>\n",
       "      <td>4</td>\n",
       "      <td>0.432355</td>\n",
       "      <td>0.728424</td>\n",
       "      <td>0.620000</td>\n",
       "      <td>0.142917</td>\n",
       "    </tr>\n",
       "  </tbody>\n",
       "</table>\n",
       "</div>"
      ],
      "text/plain": [
       "   dataset  learn_rate  max_depth  stop_iter  f1_score_macro  f1_score_micro  \\\n",
       "16      he         1.0          2          5        0.416609        0.733229   \n",
       "6       he         1.0          3          5        0.441586        0.738654   \n",
       "18      he         1.0          4          4        0.421018        0.733229   \n",
       "20      he         1.0          5          6        0.462285        0.742448   \n",
       "22      he         1.0          6          5        0.452182        0.716491   \n",
       "24      he         1.0          7          5        0.448898        0.724756   \n",
       "26      he         1.0          8          4        0.432355        0.728424   \n",
       "\n",
       "         acc       ham  \n",
       "16  0.630000  0.142500  \n",
       "6   0.631667  0.139167  \n",
       "18  0.630000  0.142500  \n",
       "20  0.626667  0.135000  \n",
       "22  0.591667  0.145417  \n",
       "24  0.610000  0.140833  \n",
       "26  0.620000  0.142917  "
      ]
     },
     "execution_count": 52,
     "metadata": {},
     "output_type": "execute_result"
    }
   ],
   "source": [
    "dt_re.sort_values(by='max_depth', inplace=True)\n",
    "dt_re"
   ]
  },
  {
   "cell_type": "code",
   "execution_count": 53,
   "metadata": {},
   "outputs": [
    {
     "data": {
      "image/png": "[encoded data removed]",
      "text/plain": [
       "<Figure size 432x288 with 1 Axes>"
      ]
     },
     "metadata": {
      "needs_background": "light"
     },
     "output_type": "display_data"
    }
   ],
   "source": [
    "plt.plot(dt_re['max_depth'], dt_re['f1_score_macro'], 'r', label='f1_score_macro')\n",
    "plt.plot(dt_re['max_depth'], dt_re['f1_score_micro'], 'b', label='f1_score_micro')\n",
    "plt.plot(dt_re['max_depth'], dt_re['acc'], 'g', label='accuracy')\n",
    "plt.plot(dt_re['max_depth'], dt_re['ham'], 'black', label='hamming_loss')\n",
    "plt.xlabel(xlabel='max_depth')\n",
    "plt.ylabel(ylabel='score')\n",
    "plt.legend(loc=3)\n",
    "plt.savefig('re_max_depth_score.png')"
   ]
  }
 ],
 "metadata": {
  "interpreter": {
   "hash": "fdff712494efa4aeb3315a17d78016ed4c255fc3d660f39cd520f95c61be32e4"
  },
  "kernelspec": {
   "display_name": "Python 3.7.5 64-bit ('nlp': conda)",
   "language": "python",
   "name": "python3"
  },
  "language_info": {
   "codemirror_mode": {
    "name": "ipython",
    "version": 3
   },
   "file_extension": ".py",
   "mimetype": "text/x-python",
   "name": "python",
   "nbconvert_exporter": "python",
   "pygments_lexer": "ipython3",
   "version": "3.7.5"
  },
  "orig_nbformat": 4
 },
 "nbformat": 4,
 "nbformat_minor": 2
}
