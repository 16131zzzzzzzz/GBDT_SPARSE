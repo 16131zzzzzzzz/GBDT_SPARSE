{
 "cells": [
  {
   "cell_type": "code",
   "execution_count": 1,
   "metadata": {},
   "outputs": [],
   "source": [
    "import pandas as pd\n",
    "import numpy as np\n",
    "import matplotlib.pyplot as plt"
   ]
  },
  {
   "cell_type": "code",
   "execution_count": 2,
   "metadata": {},
   "outputs": [],
   "source": [
    "dt = pd.read_csv('record.csv')"
   ]
  },
  {
   "cell_type": "code",
   "execution_count": 3,
   "metadata": {},
   "outputs": [],
   "source": [
    "dt_he = dt[dt['dataset'] == 'he']\n",
    "dt_he = dt_he[dt_he['max_depth'] == 3]"
   ]
  },
  {
   "cell_type": "code",
   "execution_count": 4,
   "metadata": {},
   "outputs": [
    {
     "data": {
      "text/html": [
       "<div>\n",
       "<style scoped>\n",
       "    .dataframe tbody tr th:only-of-type {\n",
       "        vertical-align: middle;\n",
       "    }\n",
       "\n",
       "    .dataframe tbody tr th {\n",
       "        vertical-align: top;\n",
       "    }\n",
       "\n",
       "    .dataframe thead th {\n",
       "        text-align: right;\n",
       "    }\n",
       "</style>\n",
       "<table border=\"1\" class=\"dataframe\">\n",
       "  <thead>\n",
       "    <tr style=\"text-align: right;\">\n",
       "      <th></th>\n",
       "      <th>dataset</th>\n",
       "      <th>learn_rate</th>\n",
       "      <th>max_depth</th>\n",
       "      <th>stop_iter</th>\n",
       "      <th>f1_score_macro</th>\n",
       "      <th>f1_score_micro</th>\n",
       "      <th>acc</th>\n",
       "      <th>ham</th>\n",
       "    </tr>\n",
       "  </thead>\n",
       "  <tbody>\n",
       "    <tr>\n",
       "      <td>1</td>\n",
       "      <td>he</td>\n",
       "      <td>0.1</td>\n",
       "      <td>3</td>\n",
       "      <td>49</td>\n",
       "      <td>0.398767</td>\n",
       "      <td>0.714405</td>\n",
       "      <td>0.598333</td>\n",
       "      <td>0.142917</td>\n",
       "    </tr>\n",
       "    <tr>\n",
       "      <td>2</td>\n",
       "      <td>he</td>\n",
       "      <td>0.3</td>\n",
       "      <td>3</td>\n",
       "      <td>23</td>\n",
       "      <td>0.380834</td>\n",
       "      <td>0.702929</td>\n",
       "      <td>0.578333</td>\n",
       "      <td>0.147917</td>\n",
       "    </tr>\n",
       "    <tr>\n",
       "      <td>0</td>\n",
       "      <td>he</td>\n",
       "      <td>0.5</td>\n",
       "      <td>3</td>\n",
       "      <td>12</td>\n",
       "      <td>0.369850</td>\n",
       "      <td>0.667254</td>\n",
       "      <td>0.531667</td>\n",
       "      <td>0.157500</td>\n",
       "    </tr>\n",
       "    <tr>\n",
       "      <td>4</td>\n",
       "      <td>he</td>\n",
       "      <td>0.8</td>\n",
       "      <td>3</td>\n",
       "      <td>10</td>\n",
       "      <td>0.422834</td>\n",
       "      <td>0.728595</td>\n",
       "      <td>0.610000</td>\n",
       "      <td>0.140000</td>\n",
       "    </tr>\n",
       "    <tr>\n",
       "      <td>6</td>\n",
       "      <td>he</td>\n",
       "      <td>1.0</td>\n",
       "      <td>3</td>\n",
       "      <td>5</td>\n",
       "      <td>0.441586</td>\n",
       "      <td>0.738654</td>\n",
       "      <td>0.631667</td>\n",
       "      <td>0.139167</td>\n",
       "    </tr>\n",
       "    <tr>\n",
       "      <td>13</td>\n",
       "      <td>he</td>\n",
       "      <td>1.2</td>\n",
       "      <td>3</td>\n",
       "      <td>6</td>\n",
       "      <td>0.401669</td>\n",
       "      <td>0.729017</td>\n",
       "      <td>0.616667</td>\n",
       "      <td>0.141250</td>\n",
       "    </tr>\n",
       "  </tbody>\n",
       "</table>\n",
       "</div>"
      ],
      "text/plain": [
       "   dataset  learn_rate  max_depth  stop_iter  f1_score_macro  f1_score_micro  \\\n",
       "1       he         0.1          3         49        0.398767        0.714405   \n",
       "2       he         0.3          3         23        0.380834        0.702929   \n",
       "0       he         0.5          3         12        0.369850        0.667254   \n",
       "4       he         0.8          3         10        0.422834        0.728595   \n",
       "6       he         1.0          3          5        0.441586        0.738654   \n",
       "13      he         1.2          3          6        0.401669        0.729017   \n",
       "\n",
       "         acc       ham  \n",
       "1   0.598333  0.142917  \n",
       "2   0.578333  0.147917  \n",
       "0   0.531667  0.157500  \n",
       "4   0.610000  0.140000  \n",
       "6   0.631667  0.139167  \n",
       "13  0.616667  0.141250  "
      ]
     },
     "execution_count": 4,
     "metadata": {},
     "output_type": "execute_result"
    }
   ],
   "source": [
    "dt_he.sort_values(by='learn_rate', inplace=True)\n",
    "dt_he"
   ]
  },
  {
   "cell_type": "code",
   "execution_count": 5,
   "metadata": {},
   "outputs": [
    {
     "data": {
      "image/png": "[encoded data removed]",
      "text/plain": [
       "<Figure size 432x288 with 1 Axes>"
      ]
     },
     "metadata": {
      "needs_background": "light"
     },
     "output_type": "display_data"
    }
   ],
   "source": [
    "plt.plot(dt_he['learn_rate'], dt_he['f1_score_macro'], 'r', label='f1_score_macro')\n",
    "plt.plot(dt_he['learn_rate'], dt_he['f1_score_micro'], 'b', label='f1_score_micro')\n",
    "plt.plot(dt_he['learn_rate'], dt_he['acc'], 'g', label='accuracy')\n",
    "plt.plot(dt_he['learn_rate'], dt_he['ham'], 'black', label='hamming_loss')\n",
    "plt.xlabel(xlabel='learn_rate')\n",
    "plt.ylabel(ylabel='score')\n",
    "plt.legend(loc=3)\n",
    "plt.savefig('he_learn_rate_score.png')"
   ]
  },
  {
   "cell_type": "code",
   "execution_count": 6,
   "metadata": {},
   "outputs": [],
   "source": [
    "dt_re = dt[dt['dataset'] == 're']\n",
    "dt_re = dt_re[dt_re['max_depth'] == 3]"
   ]
  },
  {
   "cell_type": "code",
   "execution_count": 7,
   "metadata": {},
   "outputs": [
    {
     "data": {
      "text/html": [
       "<div>\n",
       "<style scoped>\n",
       "    .dataframe tbody tr th:only-of-type {\n",
       "        vertical-align: middle;\n",
       "    }\n",
       "\n",
       "    .dataframe tbody tr th {\n",
       "        vertical-align: top;\n",
       "    }\n",
       "\n",
       "    .dataframe thead th {\n",
       "        text-align: right;\n",
       "    }\n",
       "</style>\n",
       "<table border=\"1\" class=\"dataframe\">\n",
       "  <thead>\n",
       "    <tr style=\"text-align: right;\">\n",
       "      <th></th>\n",
       "      <th>dataset</th>\n",
       "      <th>learn_rate</th>\n",
       "      <th>max_depth</th>\n",
       "      <th>stop_iter</th>\n",
       "      <th>f1_score_macro</th>\n",
       "      <th>f1_score_micro</th>\n",
       "      <th>acc</th>\n",
       "      <th>ham</th>\n",
       "    </tr>\n",
       "  </thead>\n",
       "  <tbody>\n",
       "    <tr>\n",
       "      <td>5</td>\n",
       "      <td>re</td>\n",
       "      <td>0.1</td>\n",
       "      <td>3</td>\n",
       "      <td>95</td>\n",
       "      <td>0.623452</td>\n",
       "      <td>0.847726</td>\n",
       "      <td>0.686667</td>\n",
       "      <td>0.096250</td>\n",
       "    </tr>\n",
       "    <tr>\n",
       "      <td>12</td>\n",
       "      <td>re</td>\n",
       "      <td>0.3</td>\n",
       "      <td>3</td>\n",
       "      <td>36</td>\n",
       "      <td>0.608421</td>\n",
       "      <td>0.840183</td>\n",
       "      <td>0.683333</td>\n",
       "      <td>0.102083</td>\n",
       "    </tr>\n",
       "    <tr>\n",
       "      <td>7</td>\n",
       "      <td>re</td>\n",
       "      <td>0.5</td>\n",
       "      <td>3</td>\n",
       "      <td>23</td>\n",
       "      <td>0.646683</td>\n",
       "      <td>0.843501</td>\n",
       "      <td>0.676667</td>\n",
       "      <td>0.098333</td>\n",
       "    </tr>\n",
       "    <tr>\n",
       "      <td>8</td>\n",
       "      <td>re</td>\n",
       "      <td>0.8</td>\n",
       "      <td>3</td>\n",
       "      <td>10</td>\n",
       "      <td>0.640336</td>\n",
       "      <td>0.842587</td>\n",
       "      <td>0.675000</td>\n",
       "      <td>0.100417</td>\n",
       "    </tr>\n",
       "    <tr>\n",
       "      <td>11</td>\n",
       "      <td>re</td>\n",
       "      <td>1.0</td>\n",
       "      <td>3</td>\n",
       "      <td>17</td>\n",
       "      <td>0.694317</td>\n",
       "      <td>0.845745</td>\n",
       "      <td>0.683333</td>\n",
       "      <td>0.096667</td>\n",
       "    </tr>\n",
       "    <tr>\n",
       "      <td>14</td>\n",
       "      <td>re</td>\n",
       "      <td>1.2</td>\n",
       "      <td>3</td>\n",
       "      <td>14</td>\n",
       "      <td>0.725101</td>\n",
       "      <td>0.855663</td>\n",
       "      <td>0.696667</td>\n",
       "      <td>0.092917</td>\n",
       "    </tr>\n",
       "    <tr>\n",
       "      <td>15</td>\n",
       "      <td>re</td>\n",
       "      <td>1.4</td>\n",
       "      <td>3</td>\n",
       "      <td>11</td>\n",
       "      <td>0.691354</td>\n",
       "      <td>0.857695</td>\n",
       "      <td>0.706667</td>\n",
       "      <td>0.092083</td>\n",
       "    </tr>\n",
       "  </tbody>\n",
       "</table>\n",
       "</div>"
      ],
      "text/plain": [
       "   dataset  learn_rate  max_depth  stop_iter  f1_score_macro  f1_score_micro  \\\n",
       "5       re         0.1          3         95        0.623452        0.847726   \n",
       "12      re         0.3          3         36        0.608421        0.840183   \n",
       "7       re         0.5          3         23        0.646683        0.843501   \n",
       "8       re         0.8          3         10        0.640336        0.842587   \n",
       "11      re         1.0          3         17        0.694317        0.845745   \n",
       "14      re         1.2          3         14        0.725101        0.855663   \n",
       "15      re         1.4          3         11        0.691354        0.857695   \n",
       "\n",
       "         acc       ham  \n",
       "5   0.686667  0.096250  \n",
       "12  0.683333  0.102083  \n",
       "7   0.676667  0.098333  \n",
       "8   0.675000  0.100417  \n",
       "11  0.683333  0.096667  \n",
       "14  0.696667  0.092917  \n",
       "15  0.706667  0.092083  "
      ]
     },
     "execution_count": 7,
     "metadata": {},
     "output_type": "execute_result"
    }
   ],
   "source": [
    "dt_re.sort_values(by='learn_rate', inplace=True)\n",
    "dt_re"
   ]
  },
  {
   "cell_type": "code",
   "execution_count": 8,
   "metadata": {},
   "outputs": [
    {
     "data": {
      "image/png": "[encoded data removed]",
      "text/plain": [
       "<Figure size 432x288 with 1 Axes>"
      ]
     },
     "metadata": {
      "needs_background": "light"
     },
     "output_type": "display_data"
    }
   ],
   "source": [
    "plt.plot(dt_re['learn_rate'], dt_re['f1_score_macro'], 'r', label='f1_score_macro')\n",
    "plt.plot(dt_re['learn_rate'], dt_re['f1_score_micro'], 'b', label='f1_score_micro')\n",
    "plt.plot(dt_re['learn_rate'], dt_re['acc'], 'g', label='accuracy')\n",
    "plt.plot(dt_re['learn_rate'], dt_re['ham'], 'black', label='hamming_loss')\n",
    "plt.xlabel(xlabel='learn_rate')\n",
    "plt.ylabel(ylabel='score')\n",
    "plt.legend(loc=3)\n",
    "plt.savefig('re_learn_rate_score.png')"
   ]
  }
 ],
 "metadata": {
  "interpreter": {
   "hash": "fdff712494efa4aeb3315a17d78016ed4c255fc3d660f39cd520f95c61be32e4"
  },
  "kernelspec": {
   "display_name": "Python 3.7.5 64-bit ('nlp': conda)",
   "language": "python",
   "name": "python3"
  },
  "language_info": {
   "codemirror_mode": {
    "name": "ipython",
    "version": 3
   },
   "file_extension": ".py",
   "mimetype": "text/x-python",
   "name": "python",
   "nbconvert_exporter": "python",
   "pygments_lexer": "ipython3",
   "version": "3.7.5"
  },
  "orig_nbformat": 4
 },
 "nbformat": 4,
 "nbformat_minor": 2
}
